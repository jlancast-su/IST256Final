{
 "cells": [
  {
   "cell_type": "code",
   "execution_count": 2,
   "metadata": {},
   "outputs": [],
   "source": [
    "#PROCESS:\n",
    "#3 Methods\n",
    "#   Location (Based off ZIP)\n",
    "#      Picking store (Store Rating, Hours, Address)\n",
    "#   Give choices for Product (In Catergories) [???]\n",
    "#      List: Avaliblity (quantity), Price, Warrenty, Pre-owned, Description\n",
    "#           (Add additional method for addtional information)\n",
    "#   Conclusion (List of prodcuts choosen, Store hours & Address)"
   ]
  },
  {
   "cell_type": "code",
   "execution_count": 3,
   "metadata": {},
   "outputs": [
    {
     "name": "stdout",
     "output_type": "stream",
     "text": [
      "Requirement already satisfied: chart-studio in /opt/conda/lib/python3.7/site-packages (1.0.0)\n",
      "Requirement already satisfied: retrying>=1.3.3 in /opt/conda/lib/python3.7/site-packages (from chart-studio) (1.3.3)\n",
      "Requirement already satisfied: plotly in /opt/conda/lib/python3.7/site-packages (from chart-studio) (4.1.1)\n",
      "Requirement already satisfied: six in /opt/conda/lib/python3.7/site-packages (from chart-studio) (1.12.0)\n",
      "Requirement already satisfied: requests in /opt/conda/lib/python3.7/site-packages (from chart-studio) (2.22.0)\n",
      "Requirement already satisfied: idna<2.9,>=2.5 in /opt/conda/lib/python3.7/site-packages (from requests->chart-studio) (2.8)\n",
      "Requirement already satisfied: urllib3!=1.25.0,!=1.25.1,<1.26,>=1.21.1 in /opt/conda/lib/python3.7/site-packages (from requests->chart-studio) (1.24.2)\n",
      "Requirement already satisfied: chardet<3.1.0,>=3.0.2 in /opt/conda/lib/python3.7/site-packages (from requests->chart-studio) (3.0.4)\n",
      "Requirement already satisfied: certifi>=2017.4.17 in /opt/conda/lib/python3.7/site-packages (from requests->chart-studio) (2019.6.16)\n"
     ]
    }
   ],
   "source": [
    "#Systems, Formats, Packages\n",
    "!pip install -q requests\n",
    "!pip install chart-studio\n",
    "import urllib, base64\n",
    "import pandas as pd\n",
    "import numpy as np\n",
    "import warnings\n",
    "warnings.filterwarnings('ignore')\n",
    "import requests\n",
    "import json"
   ]
  },
  {
   "cell_type": "code",
   "execution_count": 5,
   "metadata": {},
   "outputs": [],
   "source": [
    "BB_url_products= 'https://api.bestbuy.com/v1/products'\n",
    "BB_url_stores = 'https://api.bestbuy.com/v1/stores'\n",
    "BB_url_catergory = 'https://api.bestbuy.com/v1/categories'\n",
    "\n",
    "Prod_params = {'apiKey': 'PO1GPj1c2yOdKQLEdYMfG6P9', 'format' : 'json' , 'pageSize': 10}\n",
    "response_prod = requests.get(BB_url_products, params = Prod_params)\n",
    "\n",
    "Store_params = {'apiKey': 'PO1GPj1c2yOdKQLEdYMfG6P9', 'format' : 'json', 'pageSize':5, 'page': 1 } #'sort': sort-attr\n",
    "response_store = requests.get(BB_url_stores, params = Store_params)\n",
    "\n",
    "Cat_params = {'apiKey': 'PO1GPj1c2yOdKQLEdYMfG6P9', 'format' : 'json'}\n",
    "response_cat = requests.get(BB_url_catergory, params = Cat_params)\n",
    "\n",
    "prod_info = response_prod.json()\n",
    "store_info = response_store.json()\n",
    "cat_info = response_cat.json()"
   ]
  },
  {
   "cell_type": "code",
   "execution_count": null,
   "metadata": {},
   "outputs": [],
   "source": []
  },
  {
   "cell_type": "code",
   "execution_count": null,
   "metadata": {},
   "outputs": [],
   "source": []
  },
  {
   "cell_type": "code",
   "execution_count": null,
   "metadata": {},
   "outputs": [],
   "source": []
  },
  {
   "cell_type": "code",
   "execution_count": null,
   "metadata": {},
   "outputs": [],
   "source": []
  },
  {
   "cell_type": "code",
   "execution_count": null,
   "metadata": {},
   "outputs": [],
   "source": []
  },
  {
   "cell_type": "code",
   "execution_count": null,
   "metadata": {},
   "outputs": [],
   "source": [
    "#URLs\n",
    "\n",
    "def get_store(url, number):\n",
    "    #Params and assign json for API\n",
    "    sort_attr = ''\n",
    "    option = {'apiKey': 'PO1GPj1c2yOdKQLEdYMfG6P9', 'format' : 'json', 'pageSize':5, 'page': 1 } #'sort': sort-attr\n",
    "    response_store = requests.get(url, params = option)\n",
    "    store_info = response_store.json()\n",
    "\n",
    "\n",
    "    #Sorting first page of the API\n",
    "    store_info_df = pd.DataFrame(store_info)\n",
    "    store_info_df\n",
    "\n",
    "    #Varibles to read each Page from API\n",
    "    ### Page Numbers ###\n",
    "    Starting = 0\n",
    "\n",
    "    Ending= number+1\n",
    "\n",
    "\n",
    "    store_page_df = pd.DataFrame()\n",
    "    store_page_ls = []\n",
    "    for i in range(Starting, Ending):\n",
    "        response_store = requests.get(url, params = option)\n",
    "        store_page_ls.append(response_store.json())\n",
    "        option['page']=i\n",
    "\n",
    "    #store_page_ls ##Dict -> List -> List -> Dict\n",
    "    store_info_df = pd.DataFrame(store_page_ls)\n",
    "    store_info_df\n",
    "    return store_info_df"
   ]
  },
  {
   "cell_type": "code",
   "execution_count": 62,
   "metadata": {},
   "outputs": [
    {
     "name": "stdout",
     "output_type": "stream",
     "text": [
      "How many products would you like to look for? 5\n"
     ]
    },
    {
     "data": {
      "text/html": [
       "<div>\n",
       "<style scoped>\n",
       "    .dataframe tbody tr th:only-of-type {\n",
       "        vertical-align: middle;\n",
       "    }\n",
       "\n",
       "    .dataframe tbody tr th {\n",
       "        vertical-align: top;\n",
       "    }\n",
       "\n",
       "    .dataframe thead th {\n",
       "        text-align: right;\n",
       "    }\n",
       "</style>\n",
       "<table border=\"1\" class=\"dataframe\">\n",
       "  <thead>\n",
       "    <tr style=\"text-align: right;\">\n",
       "      <th></th>\n",
       "      <th>from</th>\n",
       "      <th>to</th>\n",
       "      <th>currentPage</th>\n",
       "      <th>total</th>\n",
       "      <th>totalPages</th>\n",
       "      <th>queryTime</th>\n",
       "      <th>totalTime</th>\n",
       "      <th>partial</th>\n",
       "      <th>canonicalUrl</th>\n",
       "      <th>products</th>\n",
       "    </tr>\n",
       "  </thead>\n",
       "  <tbody>\n",
       "    <tr>\n",
       "      <td>0</td>\n",
       "      <td>1</td>\n",
       "      <td>10</td>\n",
       "      <td>1</td>\n",
       "      <td>192618</td>\n",
       "      <td>19262</td>\n",
       "      <td>0.050</td>\n",
       "      <td>0.088</td>\n",
       "      <td>False</td>\n",
       "      <td>/v1/products?pageSize=10&amp;format=json&amp;apiKey=PO...</td>\n",
       "      <td>[{'sku': 1000006, 'score': None, 'productId': ...</td>\n",
       "    </tr>\n",
       "    <tr>\n",
       "      <td>1</td>\n",
       "      <td>1</td>\n",
       "      <td>10</td>\n",
       "      <td>1</td>\n",
       "      <td>192624</td>\n",
       "      <td>19263</td>\n",
       "      <td>0.026</td>\n",
       "      <td>0.071</td>\n",
       "      <td>False</td>\n",
       "      <td>/v1/products?pageSize=10&amp;format=json&amp;apiKey=PO...</td>\n",
       "      <td>[{'sku': 1000006, 'score': None, 'productId': ...</td>\n",
       "    </tr>\n",
       "    <tr>\n",
       "      <td>2</td>\n",
       "      <td>1</td>\n",
       "      <td>10</td>\n",
       "      <td>1</td>\n",
       "      <td>192624</td>\n",
       "      <td>19263</td>\n",
       "      <td>0.042</td>\n",
       "      <td>0.081</td>\n",
       "      <td>False</td>\n",
       "      <td>/v1/products?pageSize=10&amp;format=json&amp;apiKey=PO...</td>\n",
       "      <td>[{'sku': 1000006, 'score': None, 'productId': ...</td>\n",
       "    </tr>\n",
       "    <tr>\n",
       "      <td>3</td>\n",
       "      <td>1</td>\n",
       "      <td>10</td>\n",
       "      <td>1</td>\n",
       "      <td>192624</td>\n",
       "      <td>19263</td>\n",
       "      <td>0.054</td>\n",
       "      <td>0.095</td>\n",
       "      <td>False</td>\n",
       "      <td>/v1/products?pageSize=10&amp;format=json&amp;apiKey=PO...</td>\n",
       "      <td>[{'sku': 1000006, 'score': None, 'productId': ...</td>\n",
       "    </tr>\n",
       "    <tr>\n",
       "      <td>4</td>\n",
       "      <td>1</td>\n",
       "      <td>10</td>\n",
       "      <td>1</td>\n",
       "      <td>192624</td>\n",
       "      <td>19263</td>\n",
       "      <td>0.025</td>\n",
       "      <td>0.092</td>\n",
       "      <td>False</td>\n",
       "      <td>/v1/products?pageSize=10&amp;format=json&amp;apiKey=PO...</td>\n",
       "      <td>[{'sku': 1000006, 'score': None, 'productId': ...</td>\n",
       "    </tr>\n",
       "    <tr>\n",
       "      <td>5</td>\n",
       "      <td>1</td>\n",
       "      <td>10</td>\n",
       "      <td>1</td>\n",
       "      <td>192624</td>\n",
       "      <td>19263</td>\n",
       "      <td>0.006</td>\n",
       "      <td>0.047</td>\n",
       "      <td>False</td>\n",
       "      <td>/v1/products?pageSize=10&amp;format=json&amp;apiKey=PO...</td>\n",
       "      <td>[{'sku': 1000006, 'score': None, 'productId': ...</td>\n",
       "    </tr>\n",
       "  </tbody>\n",
       "</table>\n",
       "</div>"
      ],
      "text/plain": [
       "   from  to  currentPage   total  totalPages queryTime totalTime  partial  \\\n",
       "0     1  10            1  192618       19262     0.050     0.088    False   \n",
       "1     1  10            1  192624       19263     0.026     0.071    False   \n",
       "2     1  10            1  192624       19263     0.042     0.081    False   \n",
       "3     1  10            1  192624       19263     0.054     0.095    False   \n",
       "4     1  10            1  192624       19263     0.025     0.092    False   \n",
       "5     1  10            1  192624       19263     0.006     0.047    False   \n",
       "\n",
       "                                        canonicalUrl  \\\n",
       "0  /v1/products?pageSize=10&format=json&apiKey=PO...   \n",
       "1  /v1/products?pageSize=10&format=json&apiKey=PO...   \n",
       "2  /v1/products?pageSize=10&format=json&apiKey=PO...   \n",
       "3  /v1/products?pageSize=10&format=json&apiKey=PO...   \n",
       "4  /v1/products?pageSize=10&format=json&apiKey=PO...   \n",
       "5  /v1/products?pageSize=10&format=json&apiKey=PO...   \n",
       "\n",
       "                                            products  \n",
       "0  [{'sku': 1000006, 'score': None, 'productId': ...  \n",
       "1  [{'sku': 1000006, 'score': None, 'productId': ...  \n",
       "2  [{'sku': 1000006, 'score': None, 'productId': ...  \n",
       "3  [{'sku': 1000006, 'score': None, 'productId': ...  \n",
       "4  [{'sku': 1000006, 'score': None, 'productId': ...  \n",
       "5  [{'sku': 1000006, 'score': None, 'productId': ...  "
      ]
     },
     "execution_count": 62,
     "metadata": {},
     "output_type": "execute_result"
    }
   ],
   "source": [
    "\n",
    "#store_info = response_store.json()\n",
    "prod_info = response_prod.json()\n",
    "\n",
    "prod_info_df = pd.DataFrame(prod_info)\n",
    "prod_info_df\n",
    "#Varibles to read each Page from API\n",
    "### Page Numbers ###\n",
    "Starting = 0\n",
    "Ending= int(input('How many products would you like to look for? '))+1\n",
    "#store_info_df['totalPages'][0]\n",
    "\n",
    "prod_page_ls = []\n",
    "prod_page_df = pd.DataFrame()\n",
    "\n",
    "sort_attr = ''\n",
    "option = {'apiKey': 'PO1GPj1c2yOdKQLEdYMfG6P9', 'format' : 'json' , 'pageSize': 10}\n",
    "\n",
    "#Sorting first page of the API\n",
    "prod_info_df = pd.DataFrame()\n",
    "prod_info_df\n",
    "\n",
    "\n",
    "for i in range(Starting, Ending):\n",
    "    response_prod = requests.get(BB_url_products, params = option)\n",
    "    prod_page_ls.append(response_prod.json())\n",
    "    option['currentPage']=i\n",
    "    \n",
    "prod_info_df = pd.DataFrame(prod_page_ls)\n",
    "prod_info_df"
   ]
  },
  {
   "cell_type": "code",
   "execution_count": 110,
   "metadata": {},
   "outputs": [
    {
     "data": {
      "text/plain": [
       "0    [{'sku': 1000006, 'score': None, 'productId': ...\n",
       "1    [{'sku': 1000006, 'score': None, 'productId': ...\n",
       "2    [{'sku': 1000006, 'score': None, 'productId': ...\n",
       "3    [{'sku': 1000006, 'score': None, 'productId': ...\n",
       "4    [{'sku': 1000006, 'score': None, 'productId': ...\n",
       "5    [{'sku': 1000006, 'score': None, 'productId': ...\n",
       "Name: products, dtype: object"
      ]
     },
     "execution_count": 110,
     "metadata": {},
     "output_type": "execute_result"
    }
   ],
   "source": [
    "prod_info_df['products']"
   ]
  },
  {
   "cell_type": "code",
   "execution_count": 109,
   "metadata": {
    "scrolled": true
   },
   "outputs": [],
   "source": [
    "#Keys needed from DF\n",
    "    #prod_info_df['products'][0][0]['regularPrice']\n",
    "    #prod_info_df['products'][0][0]['salePrice']\n",
    "    #prod_info_df['products'][0][0]['new']\n",
    "    #prod_info_df['products'][2][4]['digital']\n",
    "    #prod_info_df['products'][0][0]['preowned']\n",
    "    #prod_info_df['products'][0][0]['url']\n",
    "  "
   ]
  },
  {
   "cell_type": "code",
   "execution_count": 31,
   "metadata": {},
   "outputs": [
    {
     "name": "stdout",
     "output_type": "stream",
     "text": [
      "10\n"
     ]
    }
   ],
   "source": [
    "print(len(bb_prod_df.index))"
   ]
  },
  {
   "cell_type": "code",
   "execution_count": null,
   "metadata": {},
   "outputs": [],
   "source": [
    "help(bb_prod_df.columns)"
   ]
  },
  {
   "cell_type": "code",
   "execution_count": null,
   "metadata": {},
   "outputs": [],
   "source": [
    "bb_prod_df.asof"
   ]
  },
  {
   "cell_type": "code",
   "execution_count": null,
   "metadata": {},
   "outputs": [],
   "source": []
  }
 ],
 "metadata": {
  "kernelspec": {
   "display_name": "Python 3",
   "language": "python",
   "name": "python3"
  },
  "language_info": {
   "codemirror_mode": {
    "name": "ipython",
    "version": 3
   },
   "file_extension": ".py",
   "mimetype": "text/x-python",
   "name": "python",
   "nbconvert_exporter": "python",
   "pygments_lexer": "ipython3",
   "version": "3.7.3"
  }
 },
 "nbformat": 4,
 "nbformat_minor": 2
}
