{
 "cells": [
  {
   "cell_type": "code",
   "execution_count": 1,
   "metadata": {},
   "outputs": [
    {
     "name": "stdout",
     "output_type": "stream",
     "text": [
      "Requirement already satisfied: chart-studio in /opt/conda/lib/python3.7/site-packages (1.0.0)\n",
      "Requirement already satisfied: plotly in /opt/conda/lib/python3.7/site-packages (from chart-studio) (4.1.1)\n",
      "Requirement already satisfied: retrying>=1.3.3 in /opt/conda/lib/python3.7/site-packages (from chart-studio) (1.3.3)\n",
      "Requirement already satisfied: six in /opt/conda/lib/python3.7/site-packages (from chart-studio) (1.12.0)\n",
      "Requirement already satisfied: requests in /opt/conda/lib/python3.7/site-packages (from chart-studio) (2.22.0)\n",
      "Requirement already satisfied: chardet<3.1.0,>=3.0.2 in /opt/conda/lib/python3.7/site-packages (from requests->chart-studio) (3.0.4)\n",
      "Requirement already satisfied: idna<2.9,>=2.5 in /opt/conda/lib/python3.7/site-packages (from requests->chart-studio) (2.8)\n",
      "Requirement already satisfied: certifi>=2017.4.17 in /opt/conda/lib/python3.7/site-packages (from requests->chart-studio) (2019.6.16)\n",
      "Requirement already satisfied: urllib3!=1.25.0,!=1.25.1,<1.26,>=1.21.1 in /opt/conda/lib/python3.7/site-packages (from requests->chart-studio) (1.24.2)\n"
     ]
    }
   ],
   "source": [
    "!pip install -q requests\n",
    "!pip install chart-studio\n",
    "import urllib, base64\n",
    "import pandas as pd\n",
    "import numpy as np\n",
    "import warnings\n",
    "warnings.filterwarnings('ignore')\n",
    "import requests\n",
    "import json"
   ]
  },
  {
   "cell_type": "code",
   "execution_count": 2,
   "metadata": {},
   "outputs": [],
   "source": [
    "# STEP 2: Write code\n",
    "\n",
    "#Creates shopping list for user\n",
    "#Holds Product's name, price, and quanitity\n",
    "#!!!!!EDIT: displaying list and checking in the list\n",
    "def Shopping_List():\n",
    "    shoppinglist =[]\n",
    "    total = 0\n",
    "    while True:\n",
    "        item = {}\n",
    "        print(\"\\nEnter proper information or type 'quit' to stop.\")\n",
    "\n",
    "        item[\"Product Name:\"] = input(\"What is the name of the product? \")\n",
    "        if(item[\"Product Name:\"] == 'quit'):\n",
    "            break\n",
    "        item[\"Price:\"] = float(input(\"What is the price of the product? \"))\n",
    "        item[\"Quantity:\"] = int(input(\"How many will you be buying? \"))\n",
    "\n",
    "        shoppinglist.append(item)\n",
    "    print(\"\")\n",
    "    for item in shoppinglist:\n",
    "        total += (item[\"Price:\"] * item[\"Quantity:\"])\n",
    "        print(\"Product: %s, Price: $%.2f, Quantity: %d\" %(item[\"Product Name:\"], item[\"Price:\"], item['Quantity:']))\n",
    "    print(\"Your total is $%.2f\" %total)\n",
    "    return shoppinglist"
   ]
  },
  {
   "cell_type": "code",
   "execution_count": null,
   "metadata": {},
   "outputs": [],
   "source": []
  }
 ],
 "metadata": {
  "kernelspec": {
   "display_name": "Python 3",
   "language": "python",
   "name": "python3"
  },
  "language_info": {
   "codemirror_mode": {
    "name": "ipython",
    "version": 3
   },
   "file_extension": ".py",
   "mimetype": "text/x-python",
   "name": "python",
   "nbconvert_exporter": "python",
   "pygments_lexer": "ipython3",
   "version": "3.7.3"
  }
 },
 "nbformat": 4,
 "nbformat_minor": 2
}
