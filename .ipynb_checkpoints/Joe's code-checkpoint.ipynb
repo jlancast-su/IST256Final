{
 "cells": [
  {
   "cell_type": "code",
   "execution_count": 3,
   "metadata": {},
   "outputs": [
    {
     "name": "stdout",
     "output_type": "stream",
     "text": [
      "Requirement already satisfied: chart-studio in /opt/conda/lib/python3.7/site-packages (1.0.0)\n",
      "Requirement already satisfied: requests in /opt/conda/lib/python3.7/site-packages (from chart-studio) (2.22.0)\n",
      "Requirement already satisfied: six in /opt/conda/lib/python3.7/site-packages (from chart-studio) (1.12.0)\n",
      "Requirement already satisfied: retrying>=1.3.3 in /opt/conda/lib/python3.7/site-packages (from chart-studio) (1.3.3)\n",
      "Requirement already satisfied: plotly in /opt/conda/lib/python3.7/site-packages (from chart-studio) (4.1.1)\n",
      "Requirement already satisfied: idna<2.9,>=2.5 in /opt/conda/lib/python3.7/site-packages (from requests->chart-studio) (2.8)\n",
      "Requirement already satisfied: urllib3!=1.25.0,!=1.25.1,<1.26,>=1.21.1 in /opt/conda/lib/python3.7/site-packages (from requests->chart-studio) (1.24.2)\n",
      "Requirement already satisfied: chardet<3.1.0,>=3.0.2 in /opt/conda/lib/python3.7/site-packages (from requests->chart-studio) (3.0.4)\n",
      "Requirement already satisfied: certifi>=2017.4.17 in /opt/conda/lib/python3.7/site-packages (from requests->chart-studio) (2019.6.16)\n"
     ]
    }
   ],
   "source": [
    "#Imports, Systems, and Packages\n",
    "!pip install -q requests\n",
    "!pip install chart-studio\n",
    "import urllib, base64\n",
    "import pandas as pd\n",
    "import numpy as np\n",
    "import warnings\n",
    "warnings.filterwarnings('ignore')\n",
    "import requests\n",
    "import json\n"
   ]
  },
  {
   "cell_type": "code",
   "execution_count": null,
   "metadata": {},
   "outputs": [],
   "source": [
    "#######################################\n",
    "#PROCESS:\n",
    "#3 Methods\n",
    "#   Location (Based off ZIP)\n",
    "#      Picking store (Store Rating, Hours, Address)\n",
    "#   Give choices for Product (In Catergories) [???]\n",
    "#      List: Avaliblity (quantity), Price, Warrenty, Pre-owned, Description\n",
    "#           (Add additional method for addtional information)\n",
    "#   Conclusion (List of prodcuts choosen, Store hours & Address)\n",
    "#######################################"
   ]
  },
  {
   "cell_type": "code",
   "execution_count": 16,
   "metadata": {},
   "outputs": [
    {
     "name": "stdout",
     "output_type": "stream",
     "text": [
      "How Many stores would you like to look for? 5\n",
      "0\n",
      "1\n",
      "2\n",
      "3\n",
      "4\n",
      "5\n"
     ]
    }
   ],
   "source": [
    "#URLs\n",
    "#BB_url_products= 'https://api.bestbuy.com/v1/products'\n",
    "BB_url_stores = 'https://api.bestbuy.com/v1/stores'\n",
    "#BB_url_catergory = 'https://api.bestbuy.com/v1/categories'\n",
    "\n",
    "#Params and assign json for API\n",
    "sort_attr = ''\n",
    "option = {'apiKey': 'PO1GPj1c2yOdKQLEdYMfG6P9', 'format' : 'json', 'pageSize':5, 'page': 1 } #'sort': sort-attr\n",
    "response_store = requests.get(BB_url_stores, params = option)\n",
    "store_info = response_store.json()\n",
    "\n",
    "\n",
    "#Sorting first page of the API\n",
    "store_info_df = pd.DataFrame(store_info)\n",
    "store_info_df\n",
    "\n",
    "#Varibles to read each Page from API\n",
    "### Page Numbers ###\n",
    "Starting = 0\n",
    "    #store_info_df['from'][0]+1 \n",
    "Ending= int(input('How Many stores would you like to look for? '))+1\n",
    "#store_info_df['totalPages'][0]\n",
    "\n",
    "#if(Ending > 10):\n",
    "\n",
    "\n",
    "#save page numbers (1,10) in a varible\n",
    "#for loop\n",
    "#New var (DF) for total pages\n",
    "#append each page to this varible\n",
    "\n",
    "store_page_df = pd.DataFrame() #Reassgin DF for all pages\n",
    "store_page_ls = []\n",
    "for i in range(Starting, Ending):\n",
    "    response_store = requests.get(BB_url_stores, params = option)\n",
    "    store_page_ls.append(response_store.json())\n",
    "    option['currentPage']=i\n",
    "    print(i)\n",
    "    \n",
    "#store_page_ls ##Dict -> List -> List -> Dict\n",
    "store_info_df = pd.DataFrame(store_page_ls)\n",
    "store_info_df\n",
    "\n"
   ]
  },
  {
   "cell_type": "code",
   "execution_count": null,
   "metadata": {},
   "outputs": [],
   "source": [
    "print(response_store.url)\n",
    "print(type(store_page_ls[0]))\n",
    "print(type(store_info_df['stores'][0]))\n",
    "\n",
    "#if(store_info_df['stores']):\n",
    "\n",
    "print(store_info_df['stores'][0])\n",
    "###Store ID Number###\n",
    "#store_info_df['stores'][0][0]['storeId']\n"
   ]
  },
  {
   "cell_type": "code",
   "execution_count": null,
   "metadata": {},
   "outputs": [],
   "source": [
    "###Keys we'll need###\n",
    "#Hours ---  store_info_df['stores'][0][0]['hours'] (str)\n",
    "#StoreId  ---  store_info_df['stores'][0][0]['storeId'] (int)\n",
    "#Address ---  store_info_df['stores'][0][0]['address'] (str)"
   ]
  },
  {
   "cell_type": "code",
   "execution_count": null,
   "metadata": {},
   "outputs": [],
   "source": [
    "store_info_df['stores'][0][0]['storeId']"
   ]
  },
  {
   "cell_type": "code",
   "execution_count": null,
   "metadata": {},
   "outputs": [],
   "source": []
  }
 ],
 "metadata": {
  "kernelspec": {
   "display_name": "Python 3",
   "language": "python",
   "name": "python3"
  },
  "language_info": {
   "codemirror_mode": {
    "name": "ipython",
    "version": 3
   },
   "file_extension": ".py",
   "mimetype": "text/x-python",
   "name": "python",
   "nbconvert_exporter": "python",
   "pygments_lexer": "ipython3",
   "version": "3.7.3"
  }
 },
 "nbformat": 4,
 "nbformat_minor": 2
}
