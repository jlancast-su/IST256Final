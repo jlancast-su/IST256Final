{
 "cells": [
  {
   "cell_type": "code",
   "execution_count": 8,
   "metadata": {},
   "outputs": [
    {
     "name": "stdout",
     "output_type": "stream",
     "text": [
      "Requirement already satisfied: chart-studio in /opt/conda/lib/python3.7/site-packages (1.0.0)\n",
      "Requirement already satisfied: plotly in /opt/conda/lib/python3.7/site-packages (from chart-studio) (4.1.1)\n",
      "Requirement already satisfied: six in /opt/conda/lib/python3.7/site-packages (from chart-studio) (1.12.0)\n",
      "Requirement already satisfied: retrying>=1.3.3 in /opt/conda/lib/python3.7/site-packages (from chart-studio) (1.3.3)\n",
      "Requirement already satisfied: requests in /opt/conda/lib/python3.7/site-packages (from chart-studio) (2.22.0)\n",
      "Requirement already satisfied: certifi>=2017.4.17 in /opt/conda/lib/python3.7/site-packages (from requests->chart-studio) (2019.6.16)\n",
      "Requirement already satisfied: urllib3!=1.25.0,!=1.25.1,<1.26,>=1.21.1 in /opt/conda/lib/python3.7/site-packages (from requests->chart-studio) (1.24.2)\n",
      "Requirement already satisfied: idna<2.9,>=2.5 in /opt/conda/lib/python3.7/site-packages (from requests->chart-studio) (2.8)\n",
      "Requirement already satisfied: chardet<3.1.0,>=3.0.2 in /opt/conda/lib/python3.7/site-packages (from requests->chart-studio) (3.0.4)\n"
     ]
    },
    {
     "data": {
      "text/plain": [
       "''"
      ]
     },
     "execution_count": 8,
     "metadata": {},
     "output_type": "execute_result"
    }
   ],
   "source": [
    "#Imports, Systems, and Packages\n",
    "!pip install -q requests\n",
    "!pip install chart-studio\n",
    "import urllib, base64\n",
    "import pandas as pd\n",
    "import numpy as np\n",
    "import warnings\n",
    "warnings.filterwarnings('ignore')\n",
    "import requests\n",
    "import json\n"
   ]
  },
  {
   "cell_type": "code",
   "execution_count": null,
   "metadata": {},
   "outputs": [],
   "source": [
    "#######################################\n",
    "#PROCESS:\n",
    "#3 Methods\n",
    "#   Location (Based off ZIP)\n",
    "#      Picking store (Store Rating, Hours, Address)\n",
    "#   Give choices for Product (In Catergories) [???]\n",
    "#      List: Avaliblity (quantity), Price, Warrenty, Pre-owned, Description\n",
    "#           (Add additional method for addtional information)\n",
    "#   Conclusion (List of prodcuts choosen, Store hours & Address)\n",
    "#######################################"
   ]
  },
  {
   "cell_type": "code",
   "execution_count": 98,
   "metadata": {},
   "outputs": [
    {
     "name": "stdout",
     "output_type": "stream",
     "text": [
      "How Many stores would you like to look for? 5\n",
      "0\n",
      "1\n",
      "2\n",
      "3\n",
      "4\n",
      "5\n"
     ]
    },
    {
     "data": {
      "text/html": [
       "<div>\n",
       "<style scoped>\n",
       "    .dataframe tbody tr th:only-of-type {\n",
       "        vertical-align: middle;\n",
       "    }\n",
       "\n",
       "    .dataframe tbody tr th {\n",
       "        vertical-align: top;\n",
       "    }\n",
       "\n",
       "    .dataframe thead th {\n",
       "        text-align: right;\n",
       "    }\n",
       "</style>\n",
       "<table border=\"1\" class=\"dataframe\">\n",
       "  <thead>\n",
       "    <tr style=\"text-align: right;\">\n",
       "      <th></th>\n",
       "      <th>from</th>\n",
       "      <th>to</th>\n",
       "      <th>currentPage</th>\n",
       "      <th>total</th>\n",
       "      <th>totalPages</th>\n",
       "      <th>queryTime</th>\n",
       "      <th>totalTime</th>\n",
       "      <th>partial</th>\n",
       "      <th>canonicalUrl</th>\n",
       "      <th>stores</th>\n",
       "      <th>error</th>\n",
       "    </tr>\n",
       "  </thead>\n",
       "  <tbody>\n",
       "    <tr>\n",
       "      <td>0</td>\n",
       "      <td>1.0</td>\n",
       "      <td>5.0</td>\n",
       "      <td>1.0</td>\n",
       "      <td>1244.0</td>\n",
       "      <td>249.0</td>\n",
       "      <td>0.021</td>\n",
       "      <td>0.027</td>\n",
       "      <td>False</td>\n",
       "      <td>/v1/stores?pageSize=5&amp;format=json&amp;apiKey=PO1GP...</td>\n",
       "      <td>[{'storeId': 1118, 'storeType': 'Big Box', 'lo...</td>\n",
       "      <td>NaN</td>\n",
       "    </tr>\n",
       "    <tr>\n",
       "      <td>1</td>\n",
       "      <td>NaN</td>\n",
       "      <td>NaN</td>\n",
       "      <td>NaN</td>\n",
       "      <td>NaN</td>\n",
       "      <td>NaN</td>\n",
       "      <td>NaN</td>\n",
       "      <td>NaN</td>\n",
       "      <td>NaN</td>\n",
       "      <td>NaN</td>\n",
       "      <td>NaN</td>\n",
       "      <td>{'code': 400, 'status': '400 Bad Request', 'me...</td>\n",
       "    </tr>\n",
       "    <tr>\n",
       "      <td>2</td>\n",
       "      <td>1.0</td>\n",
       "      <td>5.0</td>\n",
       "      <td>1.0</td>\n",
       "      <td>1244.0</td>\n",
       "      <td>249.0</td>\n",
       "      <td>0.021</td>\n",
       "      <td>0.027</td>\n",
       "      <td>False</td>\n",
       "      <td>/v1/stores?pageSize=5&amp;format=json&amp;apiKey=PO1GP...</td>\n",
       "      <td>[{'storeId': 1118, 'storeType': 'Big Box', 'lo...</td>\n",
       "      <td>NaN</td>\n",
       "    </tr>\n",
       "    <tr>\n",
       "      <td>3</td>\n",
       "      <td>6.0</td>\n",
       "      <td>10.0</td>\n",
       "      <td>2.0</td>\n",
       "      <td>1244.0</td>\n",
       "      <td>249.0</td>\n",
       "      <td>0.005</td>\n",
       "      <td>0.011</td>\n",
       "      <td>False</td>\n",
       "      <td>/v1/stores?pageSize=5&amp;page=2&amp;format=json&amp;apiKe...</td>\n",
       "      <td>[{'storeId': 2506, 'storeType': 'Big Box', 'lo...</td>\n",
       "      <td>NaN</td>\n",
       "    </tr>\n",
       "    <tr>\n",
       "      <td>4</td>\n",
       "      <td>11.0</td>\n",
       "      <td>15.0</td>\n",
       "      <td>3.0</td>\n",
       "      <td>1244.0</td>\n",
       "      <td>249.0</td>\n",
       "      <td>0.064</td>\n",
       "      <td>0.073</td>\n",
       "      <td>False</td>\n",
       "      <td>/v1/stores?pageSize=5&amp;page=3&amp;format=json&amp;apiKe...</td>\n",
       "      <td>[{'storeId': 818, 'storeType': 'Big Box', 'loc...</td>\n",
       "      <td>NaN</td>\n",
       "    </tr>\n",
       "    <tr>\n",
       "      <td>5</td>\n",
       "      <td>16.0</td>\n",
       "      <td>20.0</td>\n",
       "      <td>4.0</td>\n",
       "      <td>1244.0</td>\n",
       "      <td>249.0</td>\n",
       "      <td>0.013</td>\n",
       "      <td>0.019</td>\n",
       "      <td>False</td>\n",
       "      <td>/v1/stores?pageSize=5&amp;page=4&amp;format=json&amp;apiKe...</td>\n",
       "      <td>[{'storeId': 1126, 'storeType': 'Big Box', 'lo...</td>\n",
       "      <td>NaN</td>\n",
       "    </tr>\n",
       "  </tbody>\n",
       "</table>\n",
       "</div>"
      ],
      "text/plain": [
       "   from    to  currentPage   total  totalPages queryTime totalTime partial  \\\n",
       "0   1.0   5.0          1.0  1244.0       249.0     0.021     0.027   False   \n",
       "1   NaN   NaN          NaN     NaN         NaN       NaN       NaN     NaN   \n",
       "2   1.0   5.0          1.0  1244.0       249.0     0.021     0.027   False   \n",
       "3   6.0  10.0          2.0  1244.0       249.0     0.005     0.011   False   \n",
       "4  11.0  15.0          3.0  1244.0       249.0     0.064     0.073   False   \n",
       "5  16.0  20.0          4.0  1244.0       249.0     0.013     0.019   False   \n",
       "\n",
       "                                        canonicalUrl  \\\n",
       "0  /v1/stores?pageSize=5&format=json&apiKey=PO1GP...   \n",
       "1                                                NaN   \n",
       "2  /v1/stores?pageSize=5&format=json&apiKey=PO1GP...   \n",
       "3  /v1/stores?pageSize=5&page=2&format=json&apiKe...   \n",
       "4  /v1/stores?pageSize=5&page=3&format=json&apiKe...   \n",
       "5  /v1/stores?pageSize=5&page=4&format=json&apiKe...   \n",
       "\n",
       "                                              stores  \\\n",
       "0  [{'storeId': 1118, 'storeType': 'Big Box', 'lo...   \n",
       "1                                                NaN   \n",
       "2  [{'storeId': 1118, 'storeType': 'Big Box', 'lo...   \n",
       "3  [{'storeId': 2506, 'storeType': 'Big Box', 'lo...   \n",
       "4  [{'storeId': 818, 'storeType': 'Big Box', 'loc...   \n",
       "5  [{'storeId': 1126, 'storeType': 'Big Box', 'lo...   \n",
       "\n",
       "                                               error  \n",
       "0                                                NaN  \n",
       "1  {'code': 400, 'status': '400 Bad Request', 'me...  \n",
       "2                                                NaN  \n",
       "3                                                NaN  \n",
       "4                                                NaN  \n",
       "5                                                NaN  "
      ]
     },
     "execution_count": 98,
     "metadata": {},
     "output_type": "execute_result"
    }
   ],
   "source": [
    "#URLs\n",
    "#BB_url_products= 'https://api.bestbuy.com/v1/products'\n",
    "BB_url_stores = 'https://api.bestbuy.com/v1/stores'\n",
    "#BB_url_catergory = 'https://api.bestbuy.com/v1/categories'\n",
    "\n",
    "#Params and assign json for API\n",
    "sort_attr = ''\n",
    "option = {'apiKey': 'PO1GPj1c2yOdKQLEdYMfG6P9', 'format' : 'json', 'pageSize':5, 'page': 1 } #'sort': sort-attr\n",
    "response_store = requests.get(BB_url_stores, params = option)\n",
    "store_info = response_store.json()\n",
    "\n",
    "\n",
    "#Sorting first page of the API\n",
    "store_info_df = pd.DataFrame(store_info)\n",
    "store_info_df\n",
    "\n",
    "#Varibles to read each Page from API\n",
    "### Page Numbers ###\n",
    "Starting = 0\n",
    "    #store_info_df['from'][0]+1 \n",
    "Ending= int(input('How Many stores would you like to look for? '))+1\n",
    "store_info_df['totalPages'][0]\n",
    "\n",
    "#if(Ending > 10):\n",
    "\n",
    "\n",
    "#save page numbers (1,10) in a varible\n",
    "#for loop\n",
    "#New var (DF) for total pages\n",
    "#append each page to this varible\n",
    "\n",
    "store_page_df = pd.DataFrame()\n",
    "store_page_ls = []\n",
    "for i in range(Starting, Ending):\n",
    "    response_store = requests.get(BB_url_stores, params = option)\n",
    "    store_page_ls.append(response_store.json())\n",
    "    option['page']=i\n",
    "    print(i)\n",
    "    \n",
    "#store_page_ls ##Dict -> List -> List -> Dict\n",
    "store_info_df = pd.DataFrame(store_page_ls)\n",
    "store_info_df"
   ]
  },
  {
   "cell_type": "code",
   "execution_count": 81,
   "metadata": {},
   "outputs": [
    {
     "name": "stdout",
     "output_type": "stream",
     "text": [
      "/v1/stores?pageSize=5&format=json&apiKey=PO1GPj1c2yOdKQLEdYMfG6P9\n"
     ]
    }
   ],
   "source": [
    "URL = store_info_df['canonicalUrl'][0]\n",
    "print(URL)"
   ]
  },
  {
   "cell_type": "code",
   "execution_count": 101,
   "metadata": {},
   "outputs": [
    {
     "name": "stdout",
     "output_type": "stream",
     "text": [
      "https://api.bestbuy.com/v1/stores?apiKey=PO1GPj1c2yOdKQLEdYMfG6P9&format=json&pageSize=5&page=4\n",
      "<class 'dict'>\n",
      "<class 'list'>\n",
      "[{'storeId': 1118, 'storeType': 'Big Box', 'locationType': 'Store', 'tradeIn': None, 'brand': None, 'name': 'HATO REY PR', 'longName': 'Hato Rey', 'address': '230 Calle Federico Costa', 'address2': 'Hato Rey', 'city': 'San Juan', 'region': 'PR', 'fullPostalCode': '00918-1355', 'country': 'PR', 'lat': 18.42491, 'lng': -66.07171, 'hours': 'Sun: 10-8; Mon: 8-10; Tue: 8-10; Wed: 8-10; Thurs: 8-10; Fri: 8-10; Sat: 8-10; Sun: 10-8; Mon: 8-10; Tue: 8-10; Wed: 8-10; Thurs: 8-10; Fri: 8-10; Sat: 8-10', 'hoursAmPm': 'Sun: 10am-8pm; Mon: 8am-10pm; Tue: 8am-10pm; Wed: 8am-10pm; Thurs: 8am-10pm; Fri: 8am-10pm; Sat: 8am-10pm; Sun: 10am-8pm; Mon: 8am-10pm; Tue: 8am-10pm; Wed: 8am-10pm; Thurs: 8am-10pm; Fri: 8am-10pm; Sat: 8am-10pm', 'gmtOffset': -5, 'language': None, 'services': [{'service': 'Apple Shop'}, {'service': 'Geek Squad Services'}, {'service': 'Car and GPS Install Services'}, {'service': 'Marine Powered by Geek Squad'}, {'service': 'Microsoft Windows Store'}, {'service': 'Samsung Entertainment Experience'}], 'phone': '787-764-4900', 'postalCode': '00918'}, {'storeId': 1090, 'storeType': 'Big Box', 'locationType': 'Store', 'tradeIn': None, 'brand': None, 'name': 'RIO HONDO PR', 'longName': 'Rio Hondo Mall', 'address': '60 Ave Rio Hondo', 'address2': 'Ste 60', 'city': 'Bayamon', 'region': 'PR', 'fullPostalCode': '00961-3106', 'country': 'PR', 'lat': 18.42205, 'lng': -66.16304, 'hours': 'Sun: 11-7; Mon: 10-9; Tue: 10-9; Wed: 10-9; Thurs: 10-9; Fri: 8-10; Sat: 8-10; Sun: 11-7; Mon: 8-10; Tue: 8-10; Wed: 8-10; Thurs: 8-10; Fri: 8-10; Sat: 8-10', 'hoursAmPm': 'Sun: 11am-7pm; Mon: 10am-9pm; Tue: 10am-9pm; Wed: 10am-9pm; Thurs: 10am-9pm; Fri: 8am-10pm; Sat: 8am-10pm; Sun: 11am-7pm; Mon: 8am-10pm; Tue: 8am-10pm; Wed: 8am-10pm; Thurs: 8am-10pm; Fri: 8am-10pm; Sat: 8am-10pm', 'gmtOffset': -5, 'language': None, 'services': [{'service': 'Apple Shop'}, {'service': 'Geek Squad Services'}, {'service': 'Car and GPS Install Services'}, {'service': 'Microsoft Windows Store'}], 'phone': '787-522-0999', 'postalCode': '00961'}, {'storeId': 1496, 'storeType': 'Big Box', 'locationType': 'Store', 'tradeIn': None, 'brand': None, 'name': 'PLAZA CAROLINA PR', 'longName': 'Plaza Carolina Mall', 'address': 'Ave Fragoso Villa Fontana', 'address2': 'Ste 247', 'city': 'Carolina', 'region': 'PR', 'fullPostalCode': '00983-8595', 'country': 'PR', 'lat': 18.39141, 'lng': -65.97489, 'hours': 'Sun: 11-7; Mon: 9-9; Tue: 9-9; Wed: 9-9; Thurs: 9-9; Fri: 9-9; Sat: 9-9; Sun: 11-7; Mon: 9-9; Tue: 9-9; Wed: 9-9; Thurs: 9-9; Fri: 9-9; Sat: 9-9', 'hoursAmPm': 'Sun: 11am-7pm; Mon: 9am-9pm; Tue: 9am-9pm; Wed: 9am-9pm; Thurs: 9am-9pm; Fri: 9am-9pm; Sat: 9am-9pm; Sun: 11am-7pm; Mon: 9am-9pm; Tue: 9am-9pm; Wed: 9am-9pm; Thurs: 9am-9pm; Fri: 9am-9pm; Sat: 9am-9pm', 'gmtOffset': -5, 'language': None, 'services': [{'service': 'Apple Shop'}, {'service': 'Geek Squad Services'}, {'service': 'Car and GPS Install Services'}, {'service': 'Microsoft Windows Store'}], 'phone': '787-522-4549', 'postalCode': '00983'}, {'storeId': 418, 'storeType': 'Big Box', 'locationType': 'Store', 'tradeIn': None, 'brand': None, 'name': 'HOLYOKE MALL MA', 'longName': 'Holyoke Mall', 'address': '50 Holyoke St', 'address2': '', 'city': 'Holyoke', 'region': 'MA', 'fullPostalCode': '01040-2709', 'country': 'US', 'lat': 42.16931, 'lng': -72.64198, 'hours': 'Sun: 10-8; Mon: 10-10; Tue: 10-10; Wed: 10-10; Thurs: 10-10; Fri: 9-11; Sat: 9-11; Sun: 10-8; Mon: 8-11; Tue: 8-11; Wed: 8-11; Thurs: 8-11; Fri: 8-11; Sat: 8-11', 'hoursAmPm': 'Sun: 10am-8pm; Mon: 10am-10pm; Tue: 10am-10pm; Wed: 10am-10pm; Thurs: 10am-10pm; Fri: 9am-11pm; Sat: 9am-11pm; Sun: 10am-8pm; Mon: 8am-11pm; Tue: 8am-11pm; Wed: 8am-11pm; Thurs: 8am-11pm; Fri: 8am-11pm; Sat: 8am-11pm', 'gmtOffset': -5, 'language': None, 'services': [{'service': 'Amazon Alexa Experience'}, {'service': 'Apple Authorized Service Provider'}, {'service': 'Apple Shop'}, {'service': 'Geek Squad Services'}, {'service': 'Google Home Experience'}, {'service': 'Car and GPS Install Services'}, {'service': 'LG Experience'}, {'service': 'Microsoft Windows Store'}, {'service': 'Samsung Entertainment Experience'}, {'service': 'Sony Experience'}, {'service': 'Trade-In'}], 'phone': '413-533-4443', 'postalCode': '01040'}, {'storeId': 1433, 'storeType': 'Big Box', 'locationType': 'Store', 'tradeIn': None, 'brand': None, 'name': 'LEOMINSTER MA', 'longName': 'Leominster', 'address': '33 Orchard Hill Park Dr', 'address2': '', 'city': 'Leominster', 'region': 'MA', 'fullPostalCode': '01453-7019', 'country': 'US', 'lat': 42.52481, 'lng': -71.7124, 'hours': 'Sun: 10-8; Mon: 10-10; Tue: 10-10; Wed: 10-10; Thurs: 10-10; Fri: 9-11; Sat: 9-11; Sun: 10-8; Mon: 8-11; Tue: 8-11; Wed: 8-11; Thurs: 8-11; Fri: 8-11; Sat: 8-11', 'hoursAmPm': 'Sun: 10am-8pm; Mon: 10am-10pm; Tue: 10am-10pm; Wed: 10am-10pm; Thurs: 10am-10pm; Fri: 9am-11pm; Sat: 9am-11pm; Sun: 10am-8pm; Mon: 8am-11pm; Tue: 8am-11pm; Wed: 8am-11pm; Thurs: 8am-11pm; Fri: 8am-11pm; Sat: 8am-11pm', 'gmtOffset': -5, 'language': None, 'services': [{'service': 'Amazon Alexa Experience'}, {'service': 'Apple Authorized Service Provider'}, {'service': 'Apple Shop'}, {'service': 'Geek Squad Services'}, {'service': 'Google Home Experience'}, {'service': 'Car and GPS Install Services'}, {'service': 'Microsoft Windows Store'}, {'service': 'Trade-In'}], 'phone': '978-537-9042', 'postalCode': '01453'}]\n"
     ]
    }
   ],
   "source": [
    "print(response_store.url)\n",
    "print(type(store_page_ls[0]))\n",
    "print(type(store_info_df['stores'][0]))\n",
    "\n",
    "#if(store_info_df['stores']):\n",
    "\n",
    "print(store_info_df['stores'][0])\n",
    "###Store ID Number###\n",
    "#store_info_df['stores'][0][0]['storeId']\n"
   ]
  },
  {
   "cell_type": "code",
   "execution_count": 112,
   "metadata": {},
   "outputs": [
    {
     "ename": "TypeError",
     "evalue": "index() takes at least 1 argument (0 given)",
     "output_type": "error",
     "traceback": [
      "\u001b[0;31m---------------------------------------------------------------------------\u001b[0m",
      "\u001b[0;31mTypeError\u001b[0m                                 Traceback (most recent call last)",
      "\u001b[0;32m<ipython-input-112-38ee0395409d>\u001b[0m in \u001b[0;36m<module>\u001b[0;34m\u001b[0m\n\u001b[0;32m----> 1\u001b[0;31m \u001b[0mstore_info_df\u001b[0m\u001b[0;34m[\u001b[0m\u001b[0;34m'stores'\u001b[0m\u001b[0;34m]\u001b[0m\u001b[0;34m[\u001b[0m\u001b[0;36m0\u001b[0m\u001b[0;34m]\u001b[0m\u001b[0;34m.\u001b[0m\u001b[0mindex\u001b[0m\u001b[0;34m(\u001b[0m\u001b[0;34m)\u001b[0m\u001b[0;34m\u001b[0m\u001b[0;34m\u001b[0m\u001b[0m\n\u001b[0m",
      "\u001b[0;31mTypeError\u001b[0m: index() takes at least 1 argument (0 given)"
     ]
    }
   ],
   "source": [
    "###Keys we'll need###\n"
   ]
  },
  {
   "cell_type": "code",
   "execution_count": 46,
   "metadata": {},
   "outputs": [
    {
     "ename": "KeyError",
     "evalue": "'storeId'",
     "output_type": "error",
     "traceback": [
      "\u001b[0;31m---------------------------------------------------------------------------\u001b[0m",
      "\u001b[0;31mKeyError\u001b[0m                                  Traceback (most recent call last)",
      "\u001b[0;32m<ipython-input-46-7a5b047bebeb>\u001b[0m in \u001b[0;36m<module>\u001b[0;34m\u001b[0m\n\u001b[1;32m      1\u001b[0m \u001b[0mstore_keys\u001b[0m \u001b[0;34m=\u001b[0m \u001b[0mdict\u001b[0m\u001b[0;34m(\u001b[0m\u001b[0;34m)\u001b[0m\u001b[0;34m\u001b[0m\u001b[0;34m\u001b[0m\u001b[0m\n\u001b[0;32m----> 2\u001b[0;31m \u001b[0mstore_info_df\u001b[0m\u001b[0;34m[\u001b[0m\u001b[0;34m'stores'\u001b[0m\u001b[0;34m]\u001b[0m\u001b[0;34m[\u001b[0m\u001b[0;34m'storeId'\u001b[0m\u001b[0;34m]\u001b[0m\u001b[0;34m\u001b[0m\u001b[0;34m\u001b[0m\u001b[0m\n\u001b[0m",
      "\u001b[0;32m/opt/conda/lib/python3.7/site-packages/pandas/core/series.py\u001b[0m in \u001b[0;36m__getitem__\u001b[0;34m(self, key)\u001b[0m\n\u001b[1;32m   1066\u001b[0m         \u001b[0mkey\u001b[0m \u001b[0;34m=\u001b[0m \u001b[0mcom\u001b[0m\u001b[0;34m.\u001b[0m\u001b[0mapply_if_callable\u001b[0m\u001b[0;34m(\u001b[0m\u001b[0mkey\u001b[0m\u001b[0;34m,\u001b[0m \u001b[0mself\u001b[0m\u001b[0;34m)\u001b[0m\u001b[0;34m\u001b[0m\u001b[0;34m\u001b[0m\u001b[0m\n\u001b[1;32m   1067\u001b[0m         \u001b[0;32mtry\u001b[0m\u001b[0;34m:\u001b[0m\u001b[0;34m\u001b[0m\u001b[0;34m\u001b[0m\u001b[0m\n\u001b[0;32m-> 1068\u001b[0;31m             \u001b[0mresult\u001b[0m \u001b[0;34m=\u001b[0m \u001b[0mself\u001b[0m\u001b[0;34m.\u001b[0m\u001b[0mindex\u001b[0m\u001b[0;34m.\u001b[0m\u001b[0mget_value\u001b[0m\u001b[0;34m(\u001b[0m\u001b[0mself\u001b[0m\u001b[0;34m,\u001b[0m \u001b[0mkey\u001b[0m\u001b[0;34m)\u001b[0m\u001b[0;34m\u001b[0m\u001b[0;34m\u001b[0m\u001b[0m\n\u001b[0m\u001b[1;32m   1069\u001b[0m \u001b[0;34m\u001b[0m\u001b[0m\n\u001b[1;32m   1070\u001b[0m             \u001b[0;32mif\u001b[0m \u001b[0;32mnot\u001b[0m \u001b[0mis_scalar\u001b[0m\u001b[0;34m(\u001b[0m\u001b[0mresult\u001b[0m\u001b[0;34m)\u001b[0m\u001b[0;34m:\u001b[0m\u001b[0;34m\u001b[0m\u001b[0;34m\u001b[0m\u001b[0m\n",
      "\u001b[0;32m/opt/conda/lib/python3.7/site-packages/pandas/core/indexes/base.py\u001b[0m in \u001b[0;36mget_value\u001b[0;34m(self, series, key)\u001b[0m\n\u001b[1;32m   4728\u001b[0m         \u001b[0mk\u001b[0m \u001b[0;34m=\u001b[0m \u001b[0mself\u001b[0m\u001b[0;34m.\u001b[0m\u001b[0m_convert_scalar_indexer\u001b[0m\u001b[0;34m(\u001b[0m\u001b[0mk\u001b[0m\u001b[0;34m,\u001b[0m \u001b[0mkind\u001b[0m\u001b[0;34m=\u001b[0m\u001b[0;34m\"getitem\"\u001b[0m\u001b[0;34m)\u001b[0m\u001b[0;34m\u001b[0m\u001b[0;34m\u001b[0m\u001b[0m\n\u001b[1;32m   4729\u001b[0m         \u001b[0;32mtry\u001b[0m\u001b[0;34m:\u001b[0m\u001b[0;34m\u001b[0m\u001b[0;34m\u001b[0m\u001b[0m\n\u001b[0;32m-> 4730\u001b[0;31m             \u001b[0;32mreturn\u001b[0m \u001b[0mself\u001b[0m\u001b[0;34m.\u001b[0m\u001b[0m_engine\u001b[0m\u001b[0;34m.\u001b[0m\u001b[0mget_value\u001b[0m\u001b[0;34m(\u001b[0m\u001b[0ms\u001b[0m\u001b[0;34m,\u001b[0m \u001b[0mk\u001b[0m\u001b[0;34m,\u001b[0m \u001b[0mtz\u001b[0m\u001b[0;34m=\u001b[0m\u001b[0mgetattr\u001b[0m\u001b[0;34m(\u001b[0m\u001b[0mseries\u001b[0m\u001b[0;34m.\u001b[0m\u001b[0mdtype\u001b[0m\u001b[0;34m,\u001b[0m \u001b[0;34m\"tz\"\u001b[0m\u001b[0;34m,\u001b[0m \u001b[0;32mNone\u001b[0m\u001b[0;34m)\u001b[0m\u001b[0;34m)\u001b[0m\u001b[0;34m\u001b[0m\u001b[0;34m\u001b[0m\u001b[0m\n\u001b[0m\u001b[1;32m   4731\u001b[0m         \u001b[0;32mexcept\u001b[0m \u001b[0mKeyError\u001b[0m \u001b[0;32mas\u001b[0m \u001b[0me1\u001b[0m\u001b[0;34m:\u001b[0m\u001b[0;34m\u001b[0m\u001b[0;34m\u001b[0m\u001b[0m\n\u001b[1;32m   4732\u001b[0m             \u001b[0;32mif\u001b[0m \u001b[0mlen\u001b[0m\u001b[0;34m(\u001b[0m\u001b[0mself\u001b[0m\u001b[0;34m)\u001b[0m \u001b[0;34m>\u001b[0m \u001b[0;36m0\u001b[0m \u001b[0;32mand\u001b[0m \u001b[0;34m(\u001b[0m\u001b[0mself\u001b[0m\u001b[0;34m.\u001b[0m\u001b[0mholds_integer\u001b[0m\u001b[0;34m(\u001b[0m\u001b[0;34m)\u001b[0m \u001b[0;32mor\u001b[0m \u001b[0mself\u001b[0m\u001b[0;34m.\u001b[0m\u001b[0mis_boolean\u001b[0m\u001b[0;34m(\u001b[0m\u001b[0;34m)\u001b[0m\u001b[0;34m)\u001b[0m\u001b[0;34m:\u001b[0m\u001b[0;34m\u001b[0m\u001b[0;34m\u001b[0m\u001b[0m\n",
      "\u001b[0;32mpandas/_libs/index.pyx\u001b[0m in \u001b[0;36mpandas._libs.index.IndexEngine.get_value\u001b[0;34m()\u001b[0m\n",
      "\u001b[0;32mpandas/_libs/index.pyx\u001b[0m in \u001b[0;36mpandas._libs.index.IndexEngine.get_value\u001b[0;34m()\u001b[0m\n",
      "\u001b[0;32mpandas/_libs/index.pyx\u001b[0m in \u001b[0;36mpandas._libs.index.IndexEngine.get_loc\u001b[0;34m()\u001b[0m\n",
      "\u001b[0;32mpandas/_libs/index_class_helper.pxi\u001b[0m in \u001b[0;36mpandas._libs.index.Int64Engine._check_type\u001b[0;34m()\u001b[0m\n",
      "\u001b[0;31mKeyError\u001b[0m: 'storeId'"
     ]
    }
   ],
   "source": [
    "store_keys = dict()\n",
    "store_info_df['stores']['storeId']\n"
   ]
  },
  {
   "cell_type": "markdown",
   "metadata": {},
   "source": [
    "# This calls the API (Try to use it wisely)"
   ]
  },
  {
   "cell_type": "code",
   "execution_count": 107,
   "metadata": {},
   "outputs": [
    {
     "name": "stdout",
     "output_type": "stream",
     "text": [
      "Help on method_descriptor:\n",
      "\n",
      "index(self, value, start=0, stop=9223372036854775807, /)\n",
      "    Return first index of value.\n",
      "    \n",
      "    Raises ValueError if the value is not present.\n",
      "\n"
     ]
    }
   ],
   "source": [
    "help(list.index)"
   ]
  },
  {
   "cell_type": "code",
   "execution_count": null,
   "metadata": {},
   "outputs": [],
   "source": [
    "dir(store_info_df)"
   ]
  },
  {
   "cell_type": "code",
   "execution_count": 13,
   "metadata": {},
   "outputs": [
    {
     "data": {
      "text/plain": [
       "[RangeIndex(start=0, stop=9, step=1),\n",
       " Index(['from', 'to', 'currentPage', 'total', 'totalPages', 'queryTime',\n",
       "        'totalTime', 'partial', 'canonicalUrl', 'stores', 'errorCode',\n",
       "        'errorMessage', 'help'],\n",
       "       dtype='object')]"
      ]
     },
     "execution_count": 13,
     "metadata": {},
     "output_type": "execute_result"
    }
   ],
   "source": [
    "store_info_df.axes"
   ]
  },
  {
   "cell_type": "code",
   "execution_count": null,
   "metadata": {},
   "outputs": [],
   "source": []
  }
 ],
 "metadata": {
  "kernelspec": {
   "display_name": "Python 3",
   "language": "python",
   "name": "python3"
  },
  "language_info": {
   "codemirror_mode": {
    "name": "ipython",
    "version": 3
   },
   "file_extension": ".py",
   "mimetype": "text/x-python",
   "name": "python",
   "nbconvert_exporter": "python",
   "pygments_lexer": "ipython3",
   "version": "3.7.3"
  }
 },
 "nbformat": 4,
 "nbformat_minor": 2
}
