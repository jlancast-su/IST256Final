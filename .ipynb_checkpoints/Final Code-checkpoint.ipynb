{
 "cells": [
  {
   "cell_type": "code",
   "execution_count": 3,
   "metadata": {},
   "outputs": [
    {
     "name": "stdout",
     "output_type": "stream",
     "text": [
      "Requirement already satisfied: chart-studio in /opt/conda/lib/python3.7/site-packages (1.0.0)\n",
      "Requirement already satisfied: retrying>=1.3.3 in /opt/conda/lib/python3.7/site-packages (from chart-studio) (1.3.3)\n",
      "Requirement already satisfied: six in /opt/conda/lib/python3.7/site-packages (from chart-studio) (1.12.0)\n",
      "Requirement already satisfied: requests in /opt/conda/lib/python3.7/site-packages (from chart-studio) (2.22.0)\n",
      "Requirement already satisfied: plotly in /opt/conda/lib/python3.7/site-packages (from chart-studio) (4.1.1)\n",
      "Requirement already satisfied: chardet<3.1.0,>=3.0.2 in /opt/conda/lib/python3.7/site-packages (from requests->chart-studio) (3.0.4)\n",
      "Requirement already satisfied: idna<2.9,>=2.5 in /opt/conda/lib/python3.7/site-packages (from requests->chart-studio) (2.8)\n",
      "Requirement already satisfied: certifi>=2017.4.17 in /opt/conda/lib/python3.7/site-packages (from requests->chart-studio) (2019.6.16)\n",
      "Requirement already satisfied: urllib3!=1.25.0,!=1.25.1,<1.26,>=1.21.1 in /opt/conda/lib/python3.7/site-packages (from requests->chart-studio) (1.24.2)\n"
     ]
    }
   ],
   "source": [
    "#Imports, Systems, and Packages\n",
    "!pip install -q requests\n",
    "!pip install chart-studio\n",
    "import urllib, base64\n",
    "import pandas as pd\n",
    "import numpy as np\n",
    "import warnings\n",
    "warnings.filterwarnings('ignore')\n",
    "import requests\n",
    "import json"
   ]
  },
  {
   "cell_type": "code",
   "execution_count": 9,
   "metadata": {},
   "outputs": [
    {
     "ename": "IndentationError",
     "evalue": "expected an indented block (<ipython-input-9-9528e2a47894>, line 13)",
     "output_type": "error",
     "traceback": [
      "\u001b[0;36m  File \u001b[0;32m\"<ipython-input-9-9528e2a47894>\"\u001b[0;36m, line \u001b[0;32m13\u001b[0m\n\u001b[0;31m    print(\"STORE NAME: \"+ data['stores'][i]['name'])\u001b[0m\n\u001b[0m        ^\u001b[0m\n\u001b[0;31mIndentationError\u001b[0m\u001b[0;31m:\u001b[0m expected an indented block\n"
     ]
    }
   ],
   "source": [
    "\n",
    "print(\"Hello, Welcome to the Best Buy SmartSearch!\")\n",
    "url = input(\"Please enter 'Stores' or 'Products': \").lower()\n",
    "\n",
    "if url == 'stores':\n",
    "    user_input = int(input('Enter your zipcode: '))\n",
    "    area_url = \"https://api.bestbuy.com/v1/stores(area(%s,50))?format=json&show=storeId,storeType,hours,phone,address,name&pageSize=5&apiKey=PO1GPj1c2yOdKQLEdYMfG6P9\" % (user_input)\n",
    "    response = requests.get(area_url)\n",
    "    data = response.json()\n",
    "    print('')\n",
    "\n",
    "    try:\n",
    "        for i in range(0,len(data)):\n",
    "        print(\"STORE NAME: \"+ data['stores'][i]['name'])\n",
    "        print(\"STORE HOURS: \" + data['stores'][i]['hours'])\n",
    "        print(\"STORE PHONE NUMBER: \" + data['stores'][i]['phone'])\n",
    "        print(\"STORE ADDRESS: \"+ data['stores'][i]['address'])\n",
    "        i+=1\n",
    "\n",
    "        print('')\n",
    "        print('')\n",
    "\n",
    "    except IndexError:\n",
    "        print('...')\n",
    "\n",
    "prod_sl = []\n",
    "while True:\n",
    "    prods = {}\n",
    "    user_input1 = (input(\"Enter a product you want to purchase: ('q' to quit)\"))\n",
    "    \n",
    "    if(user_input1 == 'q'):\n",
    "        break\n",
    "    user_in1_ls = user_input1.split()\n",
    "    user_input1 = ''\n",
    "\n",
    "    for i in range(0, len(user_in1_ls)):\n",
    "        if(i+2 > len(user_in1_ls)):\n",
    "            user_input1 += \"search=\"+user_in1_ls[i]\n",
    "        else:\n",
    "            user_input1 += \"search=\"+user_in1_ls[i]+'&'\n",
    "\n",
    "    product_url = f\"https://api.bestbuy.com/v1/products(%s)?format=json&show=sku,name,preowned,digital,salePrice&apiKey=PO1GPj1c2yOdKQLEdYMfG6P9\" % (user_input1)\n",
    "    response = requests.get(product_url)\n",
    "    product_data = response.json()\n",
    "    try:\n",
    "        for i in range(0,len(data)):\n",
    "            print(i, ')')\n",
    "            print(\"PRODUCTS NAME: \"+ product_data['products'][i]['name'])\n",
    "            print(\"PRODUCTS PRICE: \", product_data['products'][i]['salePrice'])\n",
    "            print(\"PRODUCTS PREOWNED: \", product_data['products'][i]['preowned'])\n",
    "            i+=1\n",
    "\n",
    "            print('')\n",
    "            print('')\n",
    "    except IndexError:\n",
    "        print('...')\n",
    "\n",
    "    tote = 0\n",
    "    while True: \n",
    "\n",
    "        user_prod_picked = int(input(\"Would you like to add any items to your smartKart? (-1 to quit)\"))\n",
    "\n",
    "        if(user_prod_picked == -1):\n",
    "            print('...')\n",
    "            break\n",
    "\n",
    "\n",
    "        if i in range(0,len(data)):\n",
    "            prods['name'] = product_data['products'][user_prod_picked]['name']\n",
    "            prods['price'] = product_data['products'][user_prod_picked]['salePrice']\n",
    "            prods['preowned'] = product_data['products'][user_prod_picked]['preowned']\n",
    "            tote+=prods['price']\n",
    "            prods['Total'] = tote\n",
    "\n",
    "            prod_sl.append(prods)\n",
    "            print(f\"%.2f\"%(tote))\n",
    "        else:\n",
    "            print(\"not adding to the cart...\")\n",
    "\n",
    "            print(\"\")\n",
    "            print(\"Thank you for using our Program!\")\n",
    "\n",
    "            count = 0\n",
    "        for i in range(0,len(prod_sl)):\n",
    "            print(i+1, ')')\n",
    "            print(\"PRODUCTS NAME: \" + prod_sl[i]['name'])\n",
    "            print(\"PRODUCTS PRICE: \", prod_sl[i]['price'])\n",
    "            i+=1\n",
    "            count =i\n",
    "            print('')\n",
    "\n",
    "\n",
    "print(f\"Your total is $%.2f\" %(prod_sl[len(prod_sl)-1]['Total']))"
   ]
  },
  {
   "cell_type": "code",
   "execution_count": null,
   "metadata": {},
   "outputs": [],
   "source": []
  }
 ],
 "metadata": {
  "kernelspec": {
   "display_name": "Python 3",
   "language": "python",
   "name": "python3"
  },
  "language_info": {
   "codemirror_mode": {
    "name": "ipython",
    "version": 3
   },
   "file_extension": ".py",
   "mimetype": "text/x-python",
   "name": "python",
   "nbconvert_exporter": "python",
   "pygments_lexer": "ipython3",
   "version": "3.7.3"
  }
 },
 "nbformat": 4,
 "nbformat_minor": 2
}
