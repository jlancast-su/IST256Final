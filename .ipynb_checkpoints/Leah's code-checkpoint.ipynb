{
 "cells": [
  {
   "cell_type": "code",
   "execution_count": 5,
   "metadata": {},
   "outputs": [
    {
     "name": "stdout",
     "output_type": "stream",
     "text": [
      "Requirement already satisfied: chart-studio in /opt/conda/lib/python3.7/site-packages (1.0.0)\n",
      "Requirement already satisfied: plotly in /opt/conda/lib/python3.7/site-packages (from chart-studio) (4.1.1)\n",
      "Requirement already satisfied: six in /opt/conda/lib/python3.7/site-packages (from chart-studio) (1.12.0)\n",
      "Requirement already satisfied: requests in /opt/conda/lib/python3.7/site-packages (from chart-studio) (2.22.0)\n",
      "Requirement already satisfied: retrying>=1.3.3 in /opt/conda/lib/python3.7/site-packages (from chart-studio) (1.3.3)\n",
      "Requirement already satisfied: urllib3!=1.25.0,!=1.25.1,<1.26,>=1.21.1 in /opt/conda/lib/python3.7/site-packages (from requests->chart-studio) (1.24.2)\n",
      "Requirement already satisfied: idna<2.9,>=2.5 in /opt/conda/lib/python3.7/site-packages (from requests->chart-studio) (2.8)\n",
      "Requirement already satisfied: certifi>=2017.4.17 in /opt/conda/lib/python3.7/site-packages (from requests->chart-studio) (2019.6.16)\n",
      "Requirement already satisfied: chardet<3.1.0,>=3.0.2 in /opt/conda/lib/python3.7/site-packages (from requests->chart-studio) (3.0.4)\n"
     ]
    }
   ],
   "source": [
    "#Open street maps\n",
    "#Best buy API\n",
    "!pip install -q requests\n",
    "!pip install chart-studio\n",
    "import urllib, base64\n",
    "import pandas as pd\n",
    "import numpy as np\n",
    "import warnings\n",
    "warnings.filterwarnings('ignore')\n",
    "import requests\n",
    "import json\n",
    "\n",
    "\n",
    "BB_url_stores = 'https://api.bestbuy.com/v1/stores'\n",
    "BB_url_catergory = 'https://api.bestbuy.com/v1/categories'"
   ]
  },
  {
   "cell_type": "code",
   "execution_count": 7,
   "metadata": {},
   "outputs": [
    {
     "name": "stdout",
     "output_type": "stream",
     "text": [
      "https://api.bestbuy.com/v1/stores?apiKey=PO1GPj1c2yOdKQLEdYMfG6P9&format=json\n",
      "True\n"
     ]
    }
   ],
   "source": [
    "option = {'apiKey': 'PO1GPj1c2yOdKQLEdYMfG6P9', 'format' : 'json' }\n",
    "response_store = requests.get(BB_url_stores, params = option)\n",
    "print(response_store.url)\n",
    "print(response_store.ok)\n",
    "\n",
    "store_info = response_store.json()"
   ]
  },
  {
   "cell_type": "code",
   "execution_count": 8,
   "metadata": {},
   "outputs": [
    {
     "data": {
      "text/html": [
       "<div>\n",
       "<style scoped>\n",
       "    .dataframe tbody tr th:only-of-type {\n",
       "        vertical-align: middle;\n",
       "    }\n",
       "\n",
       "    .dataframe tbody tr th {\n",
       "        vertical-align: top;\n",
       "    }\n",
       "\n",
       "    .dataframe thead th {\n",
       "        text-align: right;\n",
       "    }\n",
       "</style>\n",
       "<table border=\"1\" class=\"dataframe\">\n",
       "  <thead>\n",
       "    <tr style=\"text-align: right;\">\n",
       "      <th></th>\n",
       "      <th>from</th>\n",
       "      <th>to</th>\n",
       "      <th>currentPage</th>\n",
       "      <th>total</th>\n",
       "      <th>totalPages</th>\n",
       "      <th>queryTime</th>\n",
       "      <th>totalTime</th>\n",
       "      <th>partial</th>\n",
       "      <th>canonicalUrl</th>\n",
       "      <th>stores</th>\n",
       "    </tr>\n",
       "  </thead>\n",
       "  <tbody>\n",
       "    <tr>\n",
       "      <td>0</td>\n",
       "      <td>1</td>\n",
       "      <td>10</td>\n",
       "      <td>1</td>\n",
       "      <td>1245</td>\n",
       "      <td>125</td>\n",
       "      <td>0.007</td>\n",
       "      <td>0.021</td>\n",
       "      <td>False</td>\n",
       "      <td>/v1/stores?format=json&amp;apiKey=PO1GPj1c2yOdKQLE...</td>\n",
       "      <td>{'storeId': 1118, 'storeType': 'Big Box', 'loc...</td>\n",
       "    </tr>\n",
       "    <tr>\n",
       "      <td>1</td>\n",
       "      <td>1</td>\n",
       "      <td>10</td>\n",
       "      <td>1</td>\n",
       "      <td>1245</td>\n",
       "      <td>125</td>\n",
       "      <td>0.007</td>\n",
       "      <td>0.021</td>\n",
       "      <td>False</td>\n",
       "      <td>/v1/stores?format=json&amp;apiKey=PO1GPj1c2yOdKQLE...</td>\n",
       "      <td>{'storeId': 1090, 'storeType': 'Big Box', 'loc...</td>\n",
       "    </tr>\n",
       "    <tr>\n",
       "      <td>2</td>\n",
       "      <td>1</td>\n",
       "      <td>10</td>\n",
       "      <td>1</td>\n",
       "      <td>1245</td>\n",
       "      <td>125</td>\n",
       "      <td>0.007</td>\n",
       "      <td>0.021</td>\n",
       "      <td>False</td>\n",
       "      <td>/v1/stores?format=json&amp;apiKey=PO1GPj1c2yOdKQLE...</td>\n",
       "      <td>{'storeId': 1496, 'storeType': 'Big Box', 'loc...</td>\n",
       "    </tr>\n",
       "    <tr>\n",
       "      <td>3</td>\n",
       "      <td>1</td>\n",
       "      <td>10</td>\n",
       "      <td>1</td>\n",
       "      <td>1245</td>\n",
       "      <td>125</td>\n",
       "      <td>0.007</td>\n",
       "      <td>0.021</td>\n",
       "      <td>False</td>\n",
       "      <td>/v1/stores?format=json&amp;apiKey=PO1GPj1c2yOdKQLE...</td>\n",
       "      <td>{'storeId': 418, 'storeType': 'Big Box', 'loca...</td>\n",
       "    </tr>\n",
       "    <tr>\n",
       "      <td>4</td>\n",
       "      <td>1</td>\n",
       "      <td>10</td>\n",
       "      <td>1</td>\n",
       "      <td>1245</td>\n",
       "      <td>125</td>\n",
       "      <td>0.007</td>\n",
       "      <td>0.021</td>\n",
       "      <td>False</td>\n",
       "      <td>/v1/stores?format=json&amp;apiKey=PO1GPj1c2yOdKQLE...</td>\n",
       "      <td>{'storeId': 1433, 'storeType': 'Big Box', 'loc...</td>\n",
       "    </tr>\n",
       "    <tr>\n",
       "      <td>5</td>\n",
       "      <td>1</td>\n",
       "      <td>10</td>\n",
       "      <td>1</td>\n",
       "      <td>1245</td>\n",
       "      <td>125</td>\n",
       "      <td>0.007</td>\n",
       "      <td>0.021</td>\n",
       "      <td>False</td>\n",
       "      <td>/v1/stores?format=json&amp;apiKey=PO1GPj1c2yOdKQLE...</td>\n",
       "      <td>{'storeId': 2506, 'storeType': 'Big Box', 'loc...</td>\n",
       "    </tr>\n",
       "    <tr>\n",
       "      <td>6</td>\n",
       "      <td>1</td>\n",
       "      <td>10</td>\n",
       "      <td>1</td>\n",
       "      <td>1245</td>\n",
       "      <td>125</td>\n",
       "      <td>0.007</td>\n",
       "      <td>0.021</td>\n",
       "      <td>False</td>\n",
       "      <td>/v1/stores?format=json&amp;apiKey=PO1GPj1c2yOdKQLE...</td>\n",
       "      <td>{'storeId': 532, 'storeType': 'Big Box', 'loca...</td>\n",
       "    </tr>\n",
       "    <tr>\n",
       "      <td>7</td>\n",
       "      <td>1</td>\n",
       "      <td>10</td>\n",
       "      <td>1</td>\n",
       "      <td>1245</td>\n",
       "      <td>125</td>\n",
       "      <td>0.007</td>\n",
       "      <td>0.021</td>\n",
       "      <td>False</td>\n",
       "      <td>/v1/stores?format=json&amp;apiKey=PO1GPj1c2yOdKQLE...</td>\n",
       "      <td>{'storeId': 820, 'storeType': 'Big Box', 'loca...</td>\n",
       "    </tr>\n",
       "    <tr>\n",
       "      <td>8</td>\n",
       "      <td>1</td>\n",
       "      <td>10</td>\n",
       "      <td>1</td>\n",
       "      <td>1245</td>\n",
       "      <td>125</td>\n",
       "      <td>0.007</td>\n",
       "      <td>0.021</td>\n",
       "      <td>False</td>\n",
       "      <td>/v1/stores?format=json&amp;apiKey=PO1GPj1c2yOdKQLE...</td>\n",
       "      <td>{'storeId': 1407, 'storeType': 'Big Box', 'loc...</td>\n",
       "    </tr>\n",
       "    <tr>\n",
       "      <td>9</td>\n",
       "      <td>1</td>\n",
       "      <td>10</td>\n",
       "      <td>1</td>\n",
       "      <td>1245</td>\n",
       "      <td>125</td>\n",
       "      <td>0.007</td>\n",
       "      <td>0.021</td>\n",
       "      <td>False</td>\n",
       "      <td>/v1/stores?format=json&amp;apiKey=PO1GPj1c2yOdKQLE...</td>\n",
       "      <td>{'storeId': 1532, 'storeType': 'Big Box', 'loc...</td>\n",
       "    </tr>\n",
       "  </tbody>\n",
       "</table>\n",
       "</div>"
      ],
      "text/plain": [
       "   from  to  currentPage  total  totalPages queryTime totalTime  partial  \\\n",
       "0     1  10            1   1245         125     0.007     0.021    False   \n",
       "1     1  10            1   1245         125     0.007     0.021    False   \n",
       "2     1  10            1   1245         125     0.007     0.021    False   \n",
       "3     1  10            1   1245         125     0.007     0.021    False   \n",
       "4     1  10            1   1245         125     0.007     0.021    False   \n",
       "5     1  10            1   1245         125     0.007     0.021    False   \n",
       "6     1  10            1   1245         125     0.007     0.021    False   \n",
       "7     1  10            1   1245         125     0.007     0.021    False   \n",
       "8     1  10            1   1245         125     0.007     0.021    False   \n",
       "9     1  10            1   1245         125     0.007     0.021    False   \n",
       "\n",
       "                                        canonicalUrl  \\\n",
       "0  /v1/stores?format=json&apiKey=PO1GPj1c2yOdKQLE...   \n",
       "1  /v1/stores?format=json&apiKey=PO1GPj1c2yOdKQLE...   \n",
       "2  /v1/stores?format=json&apiKey=PO1GPj1c2yOdKQLE...   \n",
       "3  /v1/stores?format=json&apiKey=PO1GPj1c2yOdKQLE...   \n",
       "4  /v1/stores?format=json&apiKey=PO1GPj1c2yOdKQLE...   \n",
       "5  /v1/stores?format=json&apiKey=PO1GPj1c2yOdKQLE...   \n",
       "6  /v1/stores?format=json&apiKey=PO1GPj1c2yOdKQLE...   \n",
       "7  /v1/stores?format=json&apiKey=PO1GPj1c2yOdKQLE...   \n",
       "8  /v1/stores?format=json&apiKey=PO1GPj1c2yOdKQLE...   \n",
       "9  /v1/stores?format=json&apiKey=PO1GPj1c2yOdKQLE...   \n",
       "\n",
       "                                              stores  \n",
       "0  {'storeId': 1118, 'storeType': 'Big Box', 'loc...  \n",
       "1  {'storeId': 1090, 'storeType': 'Big Box', 'loc...  \n",
       "2  {'storeId': 1496, 'storeType': 'Big Box', 'loc...  \n",
       "3  {'storeId': 418, 'storeType': 'Big Box', 'loca...  \n",
       "4  {'storeId': 1433, 'storeType': 'Big Box', 'loc...  \n",
       "5  {'storeId': 2506, 'storeType': 'Big Box', 'loc...  \n",
       "6  {'storeId': 532, 'storeType': 'Big Box', 'loca...  \n",
       "7  {'storeId': 820, 'storeType': 'Big Box', 'loca...  \n",
       "8  {'storeId': 1407, 'storeType': 'Big Box', 'loc...  \n",
       "9  {'storeId': 1532, 'storeType': 'Big Box', 'loc...  "
      ]
     },
     "execution_count": 8,
     "metadata": {},
     "output_type": "execute_result"
    }
   ],
   "source": [
    "store_info_df = pd.DataFrame(store_info)\n",
    "store_info_df"
   ]
  },
  {
   "cell_type": "code",
   "execution_count": 10,
   "metadata": {},
   "outputs": [
    {
     "name": "stdout",
     "output_type": "stream",
     "text": [
      "Enter your zipcode: 19072\n"
     ]
    }
   ],
   "source": [
    "user_input = int(input('Enter your zipcode: '))\n",
    "area_url = \"https://api.bestbuy.com/v1/stores(area(%s,10))?format=json&show=storeId,storeType,name&pageSize=1&apiKey=PO1GPj1c2yOdKQLEdYMfG6P9\"% (user_input)\n",
    "response = requests.get(area_url)\n",
    "data = response.json()\n",
    "store_id = []"
   ]
  },
  {
   "cell_type": "code",
   "execution_count": null,
   "metadata": {},
   "outputs": [],
   "source": [
    "BB_url_products= 'https://api.bestbuy.com/v1/products'\n",
    "BB_url_stores = 'https://api.bestbuy.com/v1/stores'\n",
    "BB_url_catergory = 'https://api.bestbuy.com/v1/categories'\n",
    "\n",
    "Prod_params = {'apiKey': 'PO1GPj1c2yOdKQLEdYMfG6P9', 'format' : 'json' , 'pageSize': 10}\n",
    "response_prod = requests.get(BB_url_products, params = Prod_params)"
   ]
  },
  {
   "cell_type": "code",
   "execution_count": 1,
   "metadata": {},
   "outputs": [
    {
     "ename": "SyntaxError",
     "evalue": "invalid character in identifier (<ipython-input-1-c792459d6989>, line 6)",
     "output_type": "error",
     "traceback": [
      "\u001b[0;36m  File \u001b[0;32m\"<ipython-input-1-c792459d6989>\"\u001b[0;36m, line \u001b[0;32m6\u001b[0m\n\u001b[0;31m    if(i+2 > len(user_in1_ls)):\u001b[0m\n\u001b[0m     ^\u001b[0m\n\u001b[0;31mSyntaxError\u001b[0m\u001b[0;31m:\u001b[0m invalid character in identifier\n"
     ]
    }
   ],
   "source": [
    "user_input1 = (input('Enter a product you want to purchase: '))\n",
    "user_in1_ls = user_input1.split()\n",
    "user_input1 = ''\n",
    "\n",
    "for i in range(0, len(user_in1_ls)):\n",
    "    if(i+2 > len(user_in1_ls)):\n",
    "        user_input1 += \"search=\"+user_in1_ls[i]\n",
    "    else:\n",
    "        user_input1 += \"search=\"+user_in1_ls[i]+'&'\n",
    "\n",
    "#product_url = \"https://api.bestbuy.com/v1/products?show=customerReviewAverage,description,inStoreAvailability,image&apiKey=PO1GPj1c2yOdKQLEdYMfG6P9\"\n",
    "product_url = f\"https://api.bestbuy.com/v1/products(%s)?format=json&show=sku,name,salePrice&apiKey=PO1GPj1c2yOdKQLEdYMfG6P9\" % (user_input1)\n",
    "response = requests.get(product_url)\n",
    "product_data = response.json()\n",
    "product_data"
   ]
  },
  {
   "cell_type": "code",
   "execution_count": 2,
   "metadata": {},
   "outputs": [
    {
     "ename": "NameError",
     "evalue": "name 'product_data' is not defined",
     "output_type": "error",
     "traceback": [
      "\u001b[0;31m---------------------------------------------------------------------------\u001b[0m",
      "\u001b[0;31mNameError\u001b[0m                                 Traceback (most recent call last)",
      "\u001b[0;32m<ipython-input-2-8db50996ac9c>\u001b[0m in \u001b[0;36m<module>\u001b[0;34m\u001b[0m\n\u001b[0;32m----> 1\u001b[0;31m \u001b[0mmade_up\u001b[0m \u001b[0;34m=\u001b[0m \u001b[0mproduct_data\u001b[0m\u001b[0;34m[\u001b[0m\u001b[0;34m'products'\u001b[0m\u001b[0;34m]\u001b[0m\u001b[0;34m\u001b[0m\u001b[0;34m\u001b[0m\u001b[0m\n\u001b[0m\u001b[1;32m      2\u001b[0m \u001b[0;34m\u001b[0m\u001b[0m\n\u001b[1;32m      3\u001b[0m \u001b[0mproduct_data\u001b[0m\u001b[0;34m[\u001b[0m\u001b[0;34m'products'\u001b[0m\u001b[0;34m]\u001b[0m\u001b[0;34m\u001b[0m\u001b[0;34m\u001b[0m\u001b[0m\n",
      "\u001b[0;31mNameError\u001b[0m: name 'product_data' is not defined"
     ]
    }
   ],
   "source": [
    "made_up = product_data['products']\n",
    "\n",
    "product_data['products']"
   ]
  },
  {
   "cell_type": "code",
   "execution_count": 3,
   "metadata": {},
   "outputs": [
    {
     "ename": "SyntaxError",
     "evalue": "invalid character in identifier (<ipython-input-3-6e006898092a>, line 4)",
     "output_type": "error",
     "traceback": [
      "\u001b[0;36m  File \u001b[0;32m\"<ipython-input-3-6e006898092a>\"\u001b[0;36m, line \u001b[0;32m4\u001b[0m\n\u001b[0;31m    print(product_data['products'][i]['name'])\u001b[0m\n\u001b[0m        ^\u001b[0m\n\u001b[0;31mSyntaxError\u001b[0m\u001b[0;31m:\u001b[0m invalid character in identifier\n"
     ]
    }
   ],
   "source": [
    "# item = dict('name', 'price')\n",
    "i=0\n",
    "for i in range(0, 10):\n",
    "    print(product_data['products'][i]['name'])\n",
    "    i+=1\n",
    "\n",
    "\n",
    "# while True:\n",
    "#     if(i > productfghj):\n",
    "#         break\n",
    "#     else:\n",
    "#         item['name'].append(product_data['products'][0]['name'])\n",
    "#         item['price'] =product_data['products'][0]['salePrice']\n",
    "#         i+=1\n",
    "# item"
   ]
  },
  {
   "cell_type": "code",
   "execution_count": null,
   "metadata": {},
   "outputs": [],
   "source": []
  }
 ],
 "metadata": {
  "kernelspec": {
   "display_name": "Python 3",
   "language": "python",
   "name": "python3"
  },
  "language_info": {
   "codemirror_mode": {
    "name": "ipython",
    "version": 3
   },
   "file_extension": ".py",
   "mimetype": "text/x-python",
   "name": "python",
   "nbconvert_exporter": "python",
   "pygments_lexer": "ipython3",
   "version": "3.7.3"
  }
 },
 "nbformat": 4,
 "nbformat_minor": 2
}
